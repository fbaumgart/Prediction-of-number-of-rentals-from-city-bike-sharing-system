{
 "cells": [
  {
   "cell_type": "code",
   "execution_count": null,
   "metadata": {},
   "outputs": [],
   "source": [
    "import pandas as pd\n",
    "import numpy as np\n",
    "import csv\n",
    "from sklearn import svm\n",
    "\n",
    "#variables\n",
    "dataset = pd.read_csv(\"http://djo.com.pl/databases/filon/day.csv\") #wczytanie zbioru danych\n",
    "iterator = 0\n",
    "usersCount = []\n",
    "usersCounttest = []\n",
    "\n",
    "#utworzenie listy z liczba wypoczen - eksport kolumny z dataframe\n",
    "while iterator < len(dataset.index):\n",
    "    usersCount.append(dataset.iloc[iterator][15])\n",
    "    iterator += 1\n",
    "    \n",
    "iterator = 0\n",
    "\n",
    "#odrzucenie niepotrzebnych kolumn\n",
    "dataset.drop(['instant', 'casual', 'registered','dteday', 'yr', 'cnt'], axis = 1, inplace = True)\n",
    "\n",
    "#uczenie\n",
    "clf = svm.SVR(kernel = 'linear') #wybór właściwego kernela wg. infografiki \n",
    "#https://scikit-learn.org/stable/tutorial/machine_learning_map/index.html\n",
    "clf.fit(dataset.values, usersCount)\n",
    "\n",
    "#przewidywanie\n",
    "    #zaladowanie zestawu testowego\n",
    "testset = pd.read_csv(\"http://djo.com.pl/databases/filon/test-day.csv\")\n",
    "\n",
    "    #utworzenie listy z liczba wypozyczen z zestawu testowego\n",
    "while iterator < len(testset.index):\n",
    "    usersCounttest.append(testset.iloc[iterator][15])\n",
    "    iterator += 1\n",
    "    \n",
    "     #odrzucenie niepotrzebnych atrybutow\n",
    "testset.drop(['instant', 'casual', 'registered', 'dteday', 'yr', 'cnt'], axis = 1, inplace = True)\n",
    "testset2 = testset.values.tolist()\n",
    "\n",
    "    #index listy zestawu testowego\n",
    "index = 100\n",
    "\n",
    "prediction = clf.predict([testset2[index]]) #przewidywanie liczby wypozyczen dla danego wiersza w zestawie testowym\n",
    "realCount = usersCounttest[index] #rzeczywista liczba wypozyczen dla porownania\n",
    "predictedCount = int(round(prediction[0])) #zaokraglenie przewidzianej liczby\n",
    "diff = realCount - predictedCount #obliczenie roznicy miedzy przewidziana liczba a rzeczywista liczba\n",
    "print(\"the difference in results is: \" + str(diff))"
   ]
  }
 ],
 "metadata": {
  "kernelspec": {
   "display_name": "Python 3",
   "language": "python",
   "name": "python3"
  },
  "language_info": {
   "codemirror_mode": {
    "name": "ipython",
    "version": 3
   },
   "file_extension": ".py",
   "mimetype": "text/x-python",
   "name": "python",
   "nbconvert_exporter": "python",
   "pygments_lexer": "ipython3",
   "version": "3.6.5"
  }
 },
 "nbformat": 4,
 "nbformat_minor": 2
}
