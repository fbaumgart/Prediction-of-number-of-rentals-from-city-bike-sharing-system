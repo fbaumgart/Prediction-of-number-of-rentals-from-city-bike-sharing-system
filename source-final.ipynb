{
 "cells": [
  {
   "cell_type": "code",
   "execution_count": 12,
   "metadata": {},
   "outputs": [
    {
     "name": "stdout",
     "output_type": "stream",
     "text": [
      "Wprowadz ktory wiersz chcesz analizowac: 200\n",
      "Indeks poza zakresem tablicy!\n",
      "Wprowadz ktory wiersz chcesz analizowac: 3\n",
      "Przewidziana liczba wypożyczeń: 4389 | Rzeczywista liczba wypożyczeń: 6299 | Różnica: 1910\n",
      "Wspolczynnik determinacji r kwadrat: -0.55\n"
     ]
    }
   ],
   "source": [
    "import pandas as pd\n",
    "import numpy as np\n",
    "import csv\n",
    "from sklearn import svm\n",
    "\n",
    "#variables\n",
    "try:\n",
    "    dataset = pd.read_csv(\"http://djo.com.pl/databases/filon/day.csv\") #wczytanie zbioru danych\n",
    "except:\n",
    "    print(\"nie mozna odczytac pliku zrodlowego!\")\n",
    "    \n",
    "iterator = 0\n",
    "usersCount = []\n",
    "usersCounttest = []\n",
    "inputFlag = True\n",
    "\n",
    "#utworzenie listy z liczba wypoczen - eksport kolumny z dataframe\n",
    "while iterator < len(dataset.index):\n",
    "    usersCount.append(dataset.iloc[iterator][15])\n",
    "    iterator += 1\n",
    "    \n",
    "iterator = 0\n",
    "\n",
    "#odrzucenie niepotrzebnych kolumn\n",
    "dataset.drop(['instant', 'casual', 'registered','dteday', 'yr', 'cnt'], axis = 1, inplace = True)\n",
    "\n",
    "#uczenie\n",
    "clf = svm.SVR(kernel = 'linear') #wybór właściwego kernela wg. infografiki \n",
    "#https://scikit-learn.org/stable/tutorial/machine_learning_map/index.html\n",
    "clf.fit(dataset.values, usersCount)\n",
    "\n",
    "#przewidywanie\n",
    "    #zaladowanie zestawu testowego\n",
    "try:\n",
    "    testset = pd.read_csv(\"http://djo.com.pl/databases/filon/test-day.csv\")\n",
    "except:\n",
    "    print(\"Nie mozna odczytac zestawu testowego!\")\n",
    "    \n",
    "    #utworzenie listy z liczba wypozyczen z zestawu testowego\n",
    "while iterator < len(testset.index):\n",
    "    usersCounttest.append(testset.iloc[iterator][15])\n",
    "    iterator += 1\n",
    "    \n",
    "     #odrzucenie niepotrzebnych atrybutow\n",
    "testset.drop(['instant', 'casual', 'registered', 'dteday', 'yr', 'cnt'], axis = 1, inplace = True)\n",
    "testset2 = testset.values.tolist()\n",
    "\n",
    "    #index listy zestawu testowego, tu wpisz ktory wiersz zestawu testowego chcesz analizowac\n",
    "while (inputFlag):    \n",
    "    index = input(\"Wprowadz ktory wiersz chcesz analizowac: \")\n",
    "    if (int(index) > len(testset.index)):\n",
    "        print(\"Indeks poza zakresem tablicy!\")\n",
    "        inputFlag = True\n",
    "    else:\n",
    "        inputFlag = False\n",
    "    \n",
    "index = int(index)\n",
    "    \n",
    "try:\n",
    "    prediction = clf.predict([testset2[index]]) #przewidywanie liczby wypozyczen dla danego wiersza w zestawie testowym\n",
    "except:\n",
    "    print(\"Prediciton failed. Indeks poza zakresem tablicy!\")\n",
    "    \n",
    "realCount = usersCounttest[index] #rzeczywista liczba wypozyczen dla porownania\n",
    "predictedCount = int(round(prediction[0])) #zaokraglenie przewidzianej liczby\n",
    "diff = realCount - predictedCount #obliczenie roznicy miedzy przewidziana liczba a rzeczywista liczba\n",
    "print(\"Przewidziana liczba wypożyczeń: \" + str(predictedCount) + \" | Rzeczywista liczba wypożyczeń: \" + str(realCount) + \" | Różnica: \" + str(diff))\n",
    "score = round(clf.score(testset.values, usersCounttest), 2) #uzyskanie wartosci wspolczynnika determinacji r kwadrat\n",
    "print(\"Wspolczynnik determinacji r kwadrat: \" + str(score))"
   ]
  },
  {
   "cell_type": "code",
   "execution_count": null,
   "metadata": {},
   "outputs": [],
   "source": []
  }
 ],
 "metadata": {
  "kernelspec": {
   "display_name": "Python 3",
   "language": "python",
   "name": "python3"
  },
  "language_info": {
   "codemirror_mode": {
    "name": "ipython",
    "version": 3
   },
   "file_extension": ".py",
   "mimetype": "text/x-python",
   "name": "python",
   "nbconvert_exporter": "python",
   "pygments_lexer": "ipython3",
   "version": "3.6.5"
  }
 },
 "nbformat": 4,
 "nbformat_minor": 2
}
