import pandas as pd
import numpy as np
import csv
from sklearn import svm

#variables
dataset = pd.read_csv("http://djo.com.pl/databases/filon/day.csv") #wczytanie zbioru danych
iterator = 0
usersCount = []
usersCounttest = []

#utworzenie listy z liczba wypoczen - eksport kolumny z dataframe
while iterator < len(dataset.index):
    usersCount.append(dataset.iloc[iterator][15])
    iterator += 1
    
iterator = 0

#odrzucenie niepotrzebnych kolumn
dataset.drop(['instant', 'casual', 'registered','dteday', 'yr', 'cnt'], axis = 1, inplace = True)

#uczenie
clf = svm.SVR(kernel = 'linear') #wybór właściwego kernela wg. infografiki 
#https://scikit-learn.org/stable/tutorial/machine_learning_map/index.html
clf.fit(dataset.values, usersCount)

#przewidywanie
    #zaladowanie zestawu testowego
testset = pd.read_csv("http://djo.com.pl/databases/filon/test-day.csv")

    #utworzenie listy z liczba wypozyczen z zestawu testowego
while iterator < len(testset.index):
    usersCounttest.append(testset.iloc[iterator][15])
    iterator += 1
    
     #odrzucenie niepotrzebnych atrybutow
testset.drop(['instant', 'casual', 'registered', 'dteday', 'yr', 'cnt'], axis = 1, inplace = True)
testset2 = testset.values.tolist()

    #index listy zestawu testowego
index = 100

prediction = clf.predict([testset2[index]]) #przewidywanie liczby wypozyczen dla danego wiersza w zestawie testowym
realCount = usersCounttest[index] #rzeczywista liczba wypozyczen dla porownania
predictedCount = int(round(prediction[0])) #zaokraglenie przewidzianej liczby
diff = realCount - predictedCount #obliczenie roznicy miedzy przewidziana liczba a rzeczywista liczba
print("the difference in results is: " + str(diff))